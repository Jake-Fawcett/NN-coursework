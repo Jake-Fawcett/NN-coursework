{
 "metadata": {
  "language_info": {
   "codemirror_mode": {
    "name": "ipython",
    "version": 3
   },
   "file_extension": ".py",
   "mimetype": "text/x-python",
   "name": "python",
   "nbconvert_exporter": "python",
   "pygments_lexer": "ipython3",
   "version": "3.8.8"
  },
  "orig_nbformat": 2,
  "kernelspec": {
   "name": "python388jvsc74a57bd0b44c442a48bae290707df8e087ea8d315928ef76bfe5cc4dd19c6d12ddaf7fa6",
   "display_name": "Python 3.8.8 64-bit"
  },
  "metadata": {
   "interpreter": {
    "hash": "b44c442a48bae290707df8e087ea8d315928ef76bfe5cc4dd19c6d12ddaf7fa6"
   }
  }
 },
 "nbformat": 4,
 "nbformat_minor": 2,
 "cells": [
  {
   "cell_type": "code",
   "execution_count": null,
   "source": [
    "from keras.models import Sequential\r\n",
    "from keras.layers import Dense, Dropout\r\n",
    "import tensorflow as tf\r\n",
    "import numpy"
   ],
   "outputs": [],
   "metadata": {}
  },
  {
   "cell_type": "code",
   "execution_count": null,
   "source": [
    "callback = tf.keras.callbacks.EarlyStopping(monitor='mse', patience=10)\r\n",
    "\r\n",
    "model = Sequential()\r\n",
    "model.add(Dense(input_size, input_dim=input_dim))\r\n",
    "model.add(Dense(hidden_size))\r\n",
    "model.add(Dropout(rate=0.1))\r\n",
    "model.add(Dense(output_size))\r\n",
    "\r\n",
    "model.compile(loss='mse', optimizer='adam', metrics=['mse'])\r\n",
    "history = model.fit(x_train, y_train, batch_size=batch_size, epochs=num_epochs, verbose=1, callbacks=[callback])"
   ],
   "outputs": [],
   "metadata": {}
  },
  {
   "cell_type": "code",
   "execution_count": null,
   "source": [
    "from sklearn.metrics import r2_score, mean_squared_error, confusion_matrix\r\n",
    "\r\n",
    "y_pred = model.predict(x_test)\r\n",
    "\r\n",
    "r2_value = r2_score(y_test, y_pred.round())\r\n",
    "print(\"r2\")\r\n",
    "print(r2_value)\r\n",
    "\r\n",
    "rmse_lstm = np.sqrt(mean_squared_error(y_test, y_pred.round()))\r\n",
    "print(\"mse\")\r\n",
    "print(rmse_lstm)"
   ],
   "outputs": [],
   "metadata": {}
  },
  {
   "cell_type": "code",
   "execution_count": null,
   "source": [
    "import matplotlib.pyplot as plt\r\n",
    "\r\n",
    "fig1, ax1 = plt.subplots()\r\n",
    "line1 = ax1.plot(history.history[\"loss\"])\r\n",
    "ax1.set_xlabel(\"Epochs\")\r\n",
    "ax1.set_ylabel(\"Loss\")\r\n",
    "\r\n",
    "fig2, ax2 = plt.subplots()\r\n",
    "line2 = ax2.plot(history.history[\"mse\"])\r\n",
    "ax2.set_xlabel(\"Epochs\")\r\n",
    "ax2.set_ylabel(\"MSE\")\r\n",
    "\r\n",
    "fig3, ax3 = plt.subplots()\r\n",
    "line3 = ax3.plot(list(y_test)[:50], label='true')\r\n",
    "line4 = ax3.plot(y_pred[:50], label='predicted')\r\n",
    "ax3.legend()\r\n",
    "ax3.set_xlabel(\"Time\")\r\n",
    "ax3.set_ylabel(\"Rented Bike Count\")"
   ],
   "outputs": [],
   "metadata": {}
  }
 ]
}