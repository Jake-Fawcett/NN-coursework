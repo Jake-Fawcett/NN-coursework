{
 "metadata": {
  "language_info": {
   "codemirror_mode": {
    "name": "ipython",
    "version": 3
   },
   "file_extension": ".py",
   "mimetype": "text/x-python",
   "name": "python",
   "nbconvert_exporter": "python",
   "pygments_lexer": "ipython3",
   "version": "3.8.8"
  },
  "orig_nbformat": 2,
  "kernelspec": {
   "name": "python388jvsc74a57bd0b44c442a48bae290707df8e087ea8d315928ef76bfe5cc4dd19c6d12ddaf7fa6",
   "display_name": "Python 3.8.8 64-bit"
  },
  "metadata": {
   "interpreter": {
    "hash": "b44c442a48bae290707df8e087ea8d315928ef76bfe5cc4dd19c6d12ddaf7fa6"
   }
  }
 },
 "nbformat": 4,
 "nbformat_minor": 2,
 "cells": [
  {
   "cell_type": "code",
   "execution_count": null,
   "source": [
    "# CNN Data Prep\r\n",
    "x_train_cnn = x_train\r\n",
    "x_test_cnn = x_test\r\n",
    "\r\n",
    "x_train_cnn['fill1'] = 0\r\n",
    "x_test_cnn['fill1'] = 0\r\n",
    "\r\n",
    "print(x_train_cnn.shape)\r\n",
    "x_train_reshaped = x_train_cnn.values.reshape(7008, 5, 3)\r\n",
    "print(x_train_reshaped.shape)\r\n",
    "\r\n",
    "print(x_test_cnn.shape)\r\n",
    "x_test_reshaped = x_test_cnn.values.reshape(1752, 5, 3)\r\n",
    "print(x_test_reshaped.shape)\r\n",
    "\r\n",
    "num_train, height, width = x_train_reshaped.shape"
   ],
   "outputs": [],
   "metadata": {}
  },
  {
   "cell_type": "code",
   "execution_count": null,
   "source": [
    "import tensorflow as tf\r\n",
    "\r\n",
    "# callback to stop when there is no loss improvement\r\n",
    "callback = tf.keras.callbacks.EarlyStopping(monitor='mse', patience=10)\r\n",
    "\r\n",
    "inp = Input(shape=(height, width, 1)) \r\n",
    "\r\n",
    "conv_1 = Convolution2D(conv_depth_1, (kernel_size, kernel_size), padding='same', activation='relu')(inp)\r\n",
    "conv_2 = Convolution2D(conv_depth_1, (kernel_size, kernel_size), padding='same', activation='relu')(conv_1)\r\n",
    "pool_1 = MaxPooling2D(pool_size=(pool_size, pool_size))(conv_2)\r\n",
    "drop_1 = Dropout(drop_prob_1)(pool_1)\r\n",
    "\r\n",
    "flat = Flatten()(drop_1)\r\n",
    "hidden = Dense(hidden_size)(flat)\r\n",
    "out = Dense(output_size)(hidden)\r\n",
    "\r\n",
    "# To define a model, just specify its input and output layers \r\n",
    "model = Model(inputs=inp, outputs=out) \r\n",
    "\r\n",
    "# using the cross-entropy loss function \r\n",
    "model.compile(loss='mse', \r\n",
    "            optimizer='adam', \t    # using the Adam optimiser\r\n",
    "            metrics=['mse']) # reporting the MSE and accuracy\r\n",
    "\r\n",
    "# Train the model using the training set\r\n",
    "# validation_split indicates using fraction 0.1 (10%) for validation\r\n",
    "history = model.fit(x_train_reshaped, y_train,                \r\n",
    "          batch_size=batch_size, epochs=num_epochs,\r\n",
    "          verbose=1, validation_split=0.1,\r\n",
    "          callbacks=[callback])\r\n",
    "\r\n",
    "model.evaluate(x_test_reshaped, y_test, verbose=1)  # Evaluate the trained model on the test set!"
   ],
   "outputs": [],
   "metadata": {}
  },
  {
   "cell_type": "code",
   "execution_count": null,
   "source": [
    "from sklearn.metrics import r2_score, mean_squared_error, confusion_matrix\r\n",
    "\r\n",
    "y_pred = model.predict(x_test_reshaped)\r\n",
    "\r\n",
    "r2_value = r2_score(y_test, y_pred.round())\r\n",
    "print(\"r2\")\r\n",
    "print(r2_value)\r\n",
    "\r\n",
    "rmse_lstm = np.sqrt(mean_squared_error(y_test, y_pred.round()))\r\n",
    "print(\"mse\")\r\n",
    "print(rmse_lstm)"
   ],
   "outputs": [],
   "metadata": {}
  },
  {
   "cell_type": "code",
   "execution_count": null,
   "source": [
    "import matplotlib.pyplot as plt\r\n",
    "\r\n",
    "fig1, ax1 = plt.subplots()\r\n",
    "line1 = ax1.plot(history.history[\"loss\"])\r\n",
    "ax1.set_xlabel(\"Epochs\")\r\n",
    "ax1.set_ylabel(\"Loss\")\r\n",
    "\r\n",
    "fig2, ax2 = plt.subplots()\r\n",
    "line2 = ax2.plot(history.history[\"mse\"])\r\n",
    "ax2.set_xlabel(\"Epochs\")\r\n",
    "ax2.set_ylabel(\"MSE\")\r\n",
    "\r\n",
    "fig3, ax3 = plt.subplots()\r\n",
    "line3 = ax3.plot(list(y_test)[:50], label='true')\r\n",
    "line4 = ax3.plot(y_pred[:50], label='predicted')\r\n",
    "ax3.legend()\r\n",
    "ax3.set_xlabel(\"Time\")\r\n",
    "ax3.set_ylabel(\"Rented Bike Count\")"
   ],
   "outputs": [],
   "metadata": {}
  }
 ]
}