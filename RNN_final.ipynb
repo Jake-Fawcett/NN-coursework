{
 "metadata": {
  "language_info": {
   "codemirror_mode": {
    "name": "ipython",
    "version": 3
   },
   "file_extension": ".py",
   "mimetype": "text/x-python",
   "name": "python",
   "nbconvert_exporter": "python",
   "pygments_lexer": "ipython3",
   "version": "3.8.8"
  },
  "orig_nbformat": 2,
  "kernelspec": {
   "name": "python3",
   "display_name": "Python 3.8.8 64-bit"
  },
  "interpreter": {
   "hash": "b44c442a48bae290707df8e087ea8d315928ef76bfe5cc4dd19c6d12ddaf7fa6"
  }
 },
 "nbformat": 4,
 "nbformat_minor": 2,
 "cells": [
  {
   "cell_type": "code",
   "execution_count": 1,
   "source": [
    "# RNN Prep\r\n",
    "print(x_train.shape)\r\n",
    "x_train = x_train.values.reshape(6772, 1, 12)\r\n",
    "\r\n",
    "print(x_test.shape)\r\n",
    "x_test = x_test.values.reshape(1612, 1, 12)\r\n",
    "\r\n",
    "print(y_train.shape)\r\n",
    "y_train = y_train.values.reshape(6772, 1)\r\n",
    "\r\n",
    "print(y_test.shape)\r\n",
    "y_test = y_test.values.reshape(1612, 1)\r\n"
   ],
   "outputs": [
    {
     "output_type": "error",
     "ename": "NameError",
     "evalue": "name 'x_train' is not defined",
     "traceback": [
      "\u001b[1;31m---------------------------------------------------------------------------\u001b[0m",
      "\u001b[1;31mNameError\u001b[0m                                 Traceback (most recent call last)",
      "\u001b[1;32m<ipython-input-1-ce061fe4b2af>\u001b[0m in \u001b[0;36m<module>\u001b[1;34m\u001b[0m\n\u001b[0;32m      1\u001b[0m \u001b[1;31m# RNN Prep\u001b[0m\u001b[1;33m\u001b[0m\u001b[1;33m\u001b[0m\u001b[1;33m\u001b[0m\u001b[0m\n\u001b[0;32m      2\u001b[0m \u001b[1;33m\u001b[0m\u001b[0m\n\u001b[1;32m----> 3\u001b[1;33m \u001b[0mprint\u001b[0m\u001b[1;33m(\u001b[0m\u001b[0mx_train\u001b[0m\u001b[1;33m.\u001b[0m\u001b[0mshape\u001b[0m\u001b[1;33m)\u001b[0m\u001b[1;33m\u001b[0m\u001b[1;33m\u001b[0m\u001b[0m\n\u001b[0m\u001b[0;32m      4\u001b[0m \u001b[0mx_train\u001b[0m \u001b[1;33m=\u001b[0m \u001b[0mx_train\u001b[0m\u001b[1;33m.\u001b[0m\u001b[0mvalues\u001b[0m\u001b[1;33m.\u001b[0m\u001b[0mreshape\u001b[0m\u001b[1;33m(\u001b[0m\u001b[1;36m6772\u001b[0m\u001b[1;33m,\u001b[0m \u001b[1;36m1\u001b[0m\u001b[1;33m,\u001b[0m \u001b[1;36m12\u001b[0m\u001b[1;33m)\u001b[0m\u001b[1;33m\u001b[0m\u001b[1;33m\u001b[0m\u001b[0m\n\u001b[0;32m      5\u001b[0m \u001b[1;33m\u001b[0m\u001b[0m\n",
      "\u001b[1;31mNameError\u001b[0m: name 'x_train' is not defined"
     ]
    }
   ],
   "metadata": {}
  },
  {
   "cell_type": "code",
   "execution_count": null,
   "source": [
    "import numpy as np\r\n",
    "import tensorflow as tf\r\n",
    "from tensorflow import keras\r\n",
    "from tensorflow.keras import layers\r\n",
    "\r\n",
    "model = keras.Sequential()\r\n",
    "\r\n",
    "callback = tf.keras.callbacks.EarlyStopping(monitor='accuracy', patience=10)\r\n",
    "\r\n",
    "\r\n",
    "model.add(layers.LSTM(12, dropout=drop_prob_1, recurrent_dropout=drop_prob_2))\r\n",
    "model.add(layers.Dense(6, activation='relu'))\r\n",
    "model.add(layers.Dense(1, activation='relu'))\r\n",
    "\r\n",
    "model.compile(\r\n",
    "    loss='mse',\r\n",
    "    optimizer=\"adam\",\r\n",
    "    metrics=[\"mse\", \"accuracy\"],\r\n",
    ")\r\n",
    "\r\n",
    "history = model.fit(x_train, y_train, batch_size=batch_size, epochs=num_epochs, verbose=1, callbacks=[callback])\r\n",
    "model.evaluate(x_test, y_test, verbose=1)  # Evaluate the trained model on the test set!"
   ],
   "outputs": [],
   "metadata": {}
  },
  {
   "cell_type": "code",
   "execution_count": null,
   "source": [
    "from sklearn.metrics import r2_score\r\n",
    "\r\n",
    "y_pred = model.predict(x_test)\r\n",
    "\r\n",
    "r2_value = r2_score(y_test, y_pred)\r\n",
    "print(r2_value)"
   ],
   "outputs": [
    {
     "output_type": "stream",
     "name": "stdout",
     "text": [
      "193/193 [==============================] - 1s 4ms/step - loss: 0.1742 - accuracy: 0.9625\n",
      "0.17424729466438293\n",
      "0.9624634385108948\n",
      "-4.506922507421693\n"
     ]
    }
   ],
   "metadata": {}
  },
  {
   "cell_type": "code",
   "execution_count": null,
   "source": [
    "import matplotlib.pyplot as plt\r\n",
    "\r\n",
    "fig1, ax1 = plt.subplots()\r\n",
    "line1 = ax1.plot(history.history[\"loss\"])\r\n",
    "ax1.set_xlabel(\"Epochs\")\r\n",
    "ax1.set_ylabel(\"Loss\")\r\n",
    "\r\n",
    "fig2, ax2 = plt.subplots()\r\n",
    "line2 = ax2.plot(history.history[\"mse\"])\r\n",
    "ax2.set_xlabel(\"Epochs\")\r\n",
    "ax2.set_ylabel(\"MSE\")\r\n",
    "\r\n",
    "fig3, ax3 = plt.subplots()\r\n",
    "line3 = ax3.plot(history.history[\"accuracy\"])\r\n",
    "ax3.set_xlabel(\"Epochs\")\r\n",
    "ax3.set_ylabel(\"Accuracy\")"
   ],
   "outputs": [],
   "metadata": {}
  }
 ]
}